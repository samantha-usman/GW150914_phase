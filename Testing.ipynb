{
 "cells": [
  {
   "cell_type": "code",
   "execution_count": 3,
   "metadata": {},
   "outputs": [],
   "source": [
    "import antenna_beam_pattern\n",
    "from pycbc.detector import Detector\n",
    "\n",
    "import pylab as plt\n",
    "\n",
    "sys.path.append('')\n",
    "sys.path.append('simple_pe')\n",
    "\n",
    "from simple_pe import cosmology\n",
    "import astropy.units as u"
   ]
  },
  {
   "cell_type": "code",
   "execution_count": null,
   "metadata": {},
   "outputs": [],
   "source": [
    "# inject_uniform_in_componant_masses = False\n",
    "sfr_injection = False\n",
    "z_max_star_formation = 20\n",
    "\n",
    "ignore_cosmology = True\n",
    "zmax = cosmology.red_dl(440)\n",
    "ntrials = 46848\n",
    "npts_injection = 50l"
   ]
  },
  {
   "cell_type": "code",
   "execution_count": null,
   "metadata": {},
   "outputs": [],
   "source": [
    "R0=1500 * u.Gpc**-3 * u.yr**-1 # set rate to BNS rate\n",
    "\n",
    "if sfr_injection: # then the local merger rate follows sfr\n",
    "    \n",
    "    def integrand(z, R0=R0):\n",
    "        return merger_rate_evolution.integrand(z,R0, z_max = z_max_star_formation)\n",
    "\n",
    "else:          # otherwise the local merger rate is constant\n",
    "   \n",
    "    def integrand(z): # eq C3 in BBH merger paper (modified since we don't include the prob of detection, and inserting solid angle)\n",
    "        dv_dz=cosmology.cosmo.differential_comoving_volume(z).to(u.Gpc**3 / u.sr)\n",
    "        return 4*np.pi *u.sr * dv_dz * R0 /(1+z) * u.yr"
   ]
  },
  {
   "cell_type": "code",
   "execution_count": 4,
   "metadata": {},
   "outputs": [],
   "source": [
    "det_h1 = Detector('H1')\n",
    "det_l1 = Detector('L1')\n",
    "det_v1 = Detector('V1')"
   ]
  },
  {
   "cell_type": "code",
   "execution_count": 5,
   "metadata": {},
   "outputs": [],
   "source": [
    "end_time = 1192529720\n",
    "declination = 0.65\n",
    "right_ascension = 4.67\n",
    "polarization = 2.34"
   ]
  },
  {
   "cell_type": "code",
   "execution_count": 6,
   "metadata": {},
   "outputs": [
    {
     "data": {
      "text/plain": [
       "(0.2651009691891958, -0.3231078685392078)"
      ]
     },
     "execution_count": 6,
     "metadata": {},
     "output_type": "execute_result"
    }
   ],
   "source": [
    "det_h1.antenna_pattern(right_ascension, declination, polarization, end_time)"
   ]
  },
  {
   "cell_type": "code",
   "execution_count": null,
   "metadata": {},
   "outputs": [],
   "source": []
  }
 ],
 "metadata": {
  "kernelspec": {
   "display_name": "PyCBC - Py2",
   "language": "python",
   "name": "pycbc_py2"
  },
  "language_info": {
   "codemirror_mode": {
    "name": "ipython",
    "version": 2
   },
   "file_extension": ".py",
   "mimetype": "text/x-python",
   "name": "python",
   "nbconvert_exporter": "python",
   "pygments_lexer": "ipython2",
   "version": "2.7.5"
  }
 },
 "nbformat": 4,
 "nbformat_minor": 2
}
